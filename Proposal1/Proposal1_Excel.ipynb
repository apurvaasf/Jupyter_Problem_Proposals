{
  "nbformat": 4,
  "nbformat_minor": 0,
  "metadata": {
    "colab": {
      "name": "Proposal1_Excel.ipynb",
      "version": "0.3.2",
      "provenance": [],
      "collapsed_sections": []
    },
    "kernelspec": {
      "name": "python3",
      "display_name": "Python 3"
    }
  },
  "cells": [
    {
      "cell_type": "markdown",
      "metadata": {
        "id": "view-in-github",
        "colab_type": "text"
      },
      "source": [
        "[View in Colaboratory](https://colab.research.google.com/github/apurvaasf/Jupyter_Problem_Proposals/blob/master/Proposal1/Proposal1_Excel.ipynb)"
      ]
    },
    {
      "metadata": {
        "id": "E7C2nN40w2z0",
        "colab_type": "code",
        "colab": {
          "base_uri": "https://localhost:8080/",
          "height": 66
        },
        "outputId": "a01cfcbb-a7ce-467f-bb35-f4e80c7ec08b"
      },
      "cell_type": "code",
      "source": [
        "# Download the zip file at dataUrl and save it as data.zip. \n",
        "dataUrl = \"https://s3-us-west-2.amazonaws.com/apurvasbucket2/data.zip\"\n",
        "\n",
        "import os.path\n",
        "import shutil\n",
        "\n",
        "\n",
        "def download_file(url, filename):\n",
        "# Check to see if file already exists\n",
        "  fileExists = os.path.isfile(filename) \n",
        "  \n",
        "  if not fileExists:\n",
        "    import requests \n",
        "    print(\"Downloading\", filename)\n",
        "\n",
        "    response = requests.get(url, stream=True)\n",
        "\n",
        "    # Throw an error for bad status codes\n",
        "    response.raise_for_status()\n",
        "\n",
        "    with open(filename, 'wb') as handle:\n",
        "      for block in response.iter_content(1024*256):  # Load 256KB at a time and provide feedback. \n",
        "          print('.', end='') # print without new line\n",
        "          handle.write(block)\n",
        "    print('\\n',filename, \"downloaded.\")\n",
        "  else:\n",
        "     print(filename, \"exists. Skipping download\")\n",
        "        \n",
        "download_file(dataUrl, \"data.zip\")\n"
      ],
      "execution_count": 0,
      "outputs": [
        {
          "output_type": "stream",
          "text": [
            "Downloading data.zip\n",
            ".\n",
            " data.zip downloaded.\n"
          ],
          "name": "stdout"
        }
      ]
    },
    {
      "metadata": {
        "id": "AcM5VuepzWXV",
        "colab_type": "code",
        "colab": {
          "base_uri": "https://localhost:8080/",
          "height": 33
        },
        "outputId": "6f0d12e1-27f7-465a-aa6c-5cc0094c7e59"
      },
      "cell_type": "code",
      "source": [
        "# Unzip data.zip into the data folder. \n",
        "# Unzip all the zipfiles\n",
        "import zipfile\n",
        "\n",
        "# Delete any current data directory. \n",
        "dir = 'data'\n",
        "if os.path.exists(dir):\n",
        "    shutil.rmtree(dir)\n",
        "os.makedirs(dir)\n",
        "\n",
        "def unzip_file(theFile):\n",
        "  path_to_zip_file = theFile\n",
        "  zip_ref = zipfile.ZipFile(path_to_zip_file, 'r')\n",
        "  zip_ref.extractall(\".\")\n",
        "  zip_ref.close()\n",
        "  \n",
        "for filename in [\"data.zip\"]:\n",
        "  print(\"Unzipping\", filename)\n",
        "  unzip_file(filename)\n",
        "\n"
      ],
      "execution_count": 0,
      "outputs": [
        {
          "output_type": "stream",
          "text": [
            "Unzipping data.zip\n"
          ],
          "name": "stdout"
        }
      ]
    },
    {
      "metadata": {
        "id": "zKD1ptmzzaXA",
        "colab_type": "code",
        "colab": {
          "base_uri": "https://localhost:8080/",
          "height": 33
        },
        "outputId": "c12265ee-2f84-4eb3-b7d7-c434647e6736"
      },
      "cell_type": "code",
      "source": [
        "# Save the list of problem directories to the problems list\n",
        "\n",
        "from os import walk\n",
        "\n",
        "directories = []\n",
        "for (dirpath, dirnames, filenames) in walk(\"data/problems\"):\n",
        "    directories.extend(dirnames)\n",
        "    break\n",
        "\n",
        "problems = []\n",
        "for directory in directories: \n",
        "    if (directory[0] != \".\"):\n",
        "        problems.append(directory)\n",
        "\n",
        "print(problems)\n"
      ],
      "execution_count": 0,
      "outputs": [
        {
          "output_type": "stream",
          "text": [
            "['folder2', 'folder1']\n"
          ],
          "name": "stdout"
        }
      ]
    },
    {
      "metadata": {
        "id": "gYwaGiLazcQG",
        "colab_type": "code",
        "colab": {}
      },
      "cell_type": "code",
      "source": [
        "# For each problem, produce a solution. Copy the example_problem to the solution by default. \n",
        "import shutil\n",
        "import pandas as pd\n",
        "import numpy as np\n",
        "# Call the overfit solver. \n",
        "# This will only work when example_solutions are present. \n",
        "# \n",
        "def solve(problem):\n",
        "  shutil.copytree(\"data/example_solutions/\"+problem, \"data/solutions/\"+problem)\n",
        "\n",
        "\n",
        "# Non-overfit solution - NOT NEEDED FOR PROPOSALS\n",
        "\"\"\"\n",
        "\n",
        "def solve(problem):\n",
        "    problemFile = \"data/problems/\"+problem+\"/input.csv\"\n",
        "    problemText = open( problemFile, \"r\").read()\n",
        "    print(problemText) \n",
        "    \n",
        "    # Get the numbers, add them together, save to solution directory. \n",
        "    inputs = problemText.split(\",\")\n",
        "    x = int(inputs[0])\n",
        "    y = int(inputs[1])\n",
        "    \n",
        "    result = x + y\n",
        "    \n",
        "    print(inputs, result)\n",
        "    \n",
        "    solutionFile = \"data/solutions/\"+problem+\"/solution.csv\"\n",
        "    \n",
        "    dir = 'data/solutions/'+problem\n",
        "    if os.path.exists(dir):\n",
        "        shutil.rmtree(dir)\n",
        "    os.makedirs(dir)\n",
        "    \n",
        "    with open(solutionFile, 'w') as out:\n",
        "        out.write(str(result))\n",
        "\n",
        "\"\"\"\n",
        "pass"
      ],
      "execution_count": 0,
      "outputs": []
    },
    {
      "metadata": {
        "id": "WOI6_25s2PwD",
        "colab_type": "text"
      },
      "cell_type": "markdown",
      "source": [
        "# Section 2"
      ]
    },
    {
      "metadata": {
        "id": "QnuBRF8B2UpP",
        "colab_type": "code",
        "colab": {}
      },
      "cell_type": "code",
      "source": [
        "# Delete any existing solutions. \n",
        "dir = 'data/solutions'\n",
        "if os.path.exists(dir):\n",
        "    shutil.rmtree(dir)\n",
        "os.makedirs(dir)\n",
        "\n",
        "\n",
        "# Call the new solve function for all available problems. \n",
        "for problem in problems: \n",
        "    solve(problem)"
      ],
      "execution_count": 0,
      "outputs": []
    },
    {
      "metadata": {
        "id": "mKhKrVA19asD",
        "colab_type": "code",
        "colab": {}
      },
      "cell_type": "code",
      "source": [
        "for problemDir in problems: \n",
        "  solutionFile = \"data/solutions/\"+problemDir+\"/solution.csv\"\n",
        "  example_solutionFile = \"data/example_solutions/\"+problemDir+\"/solution.csv\"\n",
        "\n",
        "#   df_solutionFile=pd.read_csv(solutionFile)\n",
        "#   df_example_solutionFile=pd.read_csv(example_solutionFile)\n",
        "\n",
        "  solutionText = open( solutionFile, \"r\").read()\n"
      ],
      "execution_count": 0,
      "outputs": []
    },
    {
      "metadata": {
        "id": "9HTFy0Ia2-Qz",
        "colab_type": "code",
        "colab": {
          "base_uri": "https://localhost:8080/",
          "height": 50
        },
        "outputId": "0b550ba4-cf33-4a82-d1ef-8109ee738c5f"
      },
      "cell_type": "code",
      "source": [
        "# Test all available solutions. \n",
        "\n",
        "# Custom test code goes here. \n",
        "def test_case(problemDir):\n",
        "    \n",
        "    \"\"\"\n",
        "    problemFile = \"data/problems/\"+problemDir+\"/input.csv\"\n",
        "    problemText = open( problemFile, \"r\").read()\n",
        "    print(problemText) \n",
        "    \n",
        "    \"\"\"\n",
        "    \n",
        "    example_solutionFile = \"data/example_solutions/\"+problemDir+\"/solution.csv\"\n",
        "    example_solutionText = open( example_solutionFile, \"r\").read()\n",
        "    \n",
        "    solutionFile = \"data/solutions/\"+problemDir+\"/solution.csv\"\n",
        "    solutionText = open( solutionFile, \"r\").read()\n",
        "    \n",
        "    if( solutionText == example_solutionText ):\n",
        "      return True\n",
        "    else:\n",
        "      return False\n",
        "    \n",
        "# End customer test code. \n",
        "    \n",
        "for problem in problems: \n",
        "    result = test_case(problem)\n",
        "    if(result):\n",
        "        print(\"pass\")\n",
        "    else:\n",
        "      print(\"Invalid solution for problem \",problem)\n",
        "      print(\"\\n\")\n"
      ],
      "execution_count": 0,
      "outputs": [
        {
          "output_type": "stream",
          "text": [
            "pass\n",
            "pass\n"
          ],
          "name": "stdout"
        }
      ]
    }
  ]
}
