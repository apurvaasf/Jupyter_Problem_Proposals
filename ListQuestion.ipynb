{
  "nbformat": 4,
  "nbformat_minor": 0,
  "metadata": {
    "colab": {
      "name": "ListQuestion.ipynb",
      "version": "0.3.2",
      "provenance": [],
      "collapsed_sections": []
    }
  },
  "cells": [
    {
      "cell_type": "markdown",
      "metadata": {
        "id": "view-in-github",
        "colab_type": "text"
      },
      "source": [
        "[View in Colaboratory](https://colab.research.google.com/github/apurvaasf/Jupyter_Problem_Proposals/blob/master/ListQuestion.ipynb)"
      ]
    },
    {
      "metadata": {
        "id": "ecYTrogluBdg",
        "colab_type": "code",
        "colab": {}
      },
      "cell_type": "code",
      "source": [
        "def fn(myList):\n",
        "  return sum(myList)"
      ],
      "execution_count": 0,
      "outputs": []
    },
    {
      "metadata": {
        "id": "aOEswYhhy5gf",
        "colab_type": "code",
        "colab": {}
      },
      "cell_type": "code",
      "source": [
        "mylist = [1,2,3]\n",
        "try:\n",
        "  assert(fn(mylist)==6)\n",
        "  assert(fn([3,4,5,6])==18)\n",
        "except:\n",
        "  print(\"One of the tests failed.\")"
      ],
      "execution_count": 0,
      "outputs": []
    }
  ]
}