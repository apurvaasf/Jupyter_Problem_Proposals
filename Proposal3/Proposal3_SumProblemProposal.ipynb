{
  "nbformat": 4,
  "nbformat_minor": 0,
  "metadata": {
    "colab": {
      "name": "Proposal3_SumProblemProposal.ipynb",
      "version": "0.3.2",
      "provenance": [],
      "collapsed_sections": []
    },
    "kernelspec": {
      "name": "python3",
      "display_name": "Python 3"
    }
  },
  "cells": [
    {
      "cell_type": "markdown",
      "metadata": {
        "id": "view-in-github",
        "colab_type": "text"
      },
      "source": [
        "[View in Colaboratory](https://colab.research.google.com/github/apurvaasf/Jupyter_Problem_Proposals/blob/master/Proposal3/Proposal3_SumProblemProposal.ipynb)"
      ]
    },
    {
      "metadata": {
        "id": "cZpc-cFyM6YL",
        "colab_type": "code",
        "colab": {
          "base_uri": "https://localhost:8080/",
          "height": 33
        },
        "outputId": "597a7b6c-00f3-4a90-dbf7-1c6d6099e750"
      },
      "cell_type": "code",
      "source": [
        "# Download the zip file at dataUrl and save it as data.zip. \n",
        "\n",
        "dataUrl = \"https://s3-ap-southeast-1.amazonaws.com/alset-jupyter/data.zip\"\n",
        "\n",
        "import os.path\n",
        "\n",
        "\n",
        "def download_file(url, filename):\n",
        "# Check to see if file already exists\n",
        "  fileExists = os.path.isfile(filename) \n",
        "  \n",
        "  if not fileExists:\n",
        "    import requests \n",
        "    print(\"Downloading\", filename)\n",
        "\n",
        "    response = requests.get(url, stream=True)\n",
        "\n",
        "    # Throw an error for bad status codes\n",
        "    response.raise_for_status()\n",
        "\n",
        "    with open(filename, 'wb') as handle:\n",
        "      for block in response.iter_content(1024*256):  # Load 256KB at a time and provide feedback. \n",
        "          print('.', end='') # print without new line\n",
        "          handle.write(block)\n",
        "    print('\\n',filename, \"downloaded.\")\n",
        "  else:\n",
        "     print(filename, \"exists. Skipping download\")\n",
        "        \n",
        "download_file(dataUrl, \"data.zip\")"
      ],
      "execution_count": 1,
      "outputs": [
        {
          "output_type": "stream",
          "text": [
            "data.zip exists. Skipping download\n"
          ],
          "name": "stdout"
        }
      ]
    },
    {
      "metadata": {
        "id": "GE2fgFc2M6YS",
        "colab_type": "code",
        "colab": {
          "base_uri": "https://localhost:8080/",
          "height": 33
        },
        "outputId": "6547a5bb-89c4-4f41-c2c3-d5b3a52c06cd"
      },
      "cell_type": "code",
      "source": [
        "# Unzip data.zip into the data folder. \n",
        "# Unzip all the zipfiles\n",
        "import zipfile\n",
        "import shutil\n",
        "\n",
        "# Delete any current data directory. \n",
        "dir = 'data'\n",
        "if os.path.exists(dir):\n",
        "    shutil.rmtree(dir)\n",
        "os.makedirs(dir)\n",
        "\n",
        "def unzip_file(theFile):\n",
        "  path_to_zip_file = theFile\n",
        "  zip_ref = zipfile.ZipFile(path_to_zip_file, 'r')\n",
        "  zip_ref.extractall(\".\")\n",
        "  zip_ref.close()\n",
        "  \n",
        "for filename in [\"data.zip\"]:\n",
        "  print(\"Unzipping\", filename)\n",
        "  unzip_file(filename)\n",
        "\n"
      ],
      "execution_count": 3,
      "outputs": [
        {
          "output_type": "stream",
          "text": [
            "Unzipping data.zip\n"
          ],
          "name": "stdout"
        }
      ]
    },
    {
      "metadata": {
        "id": "w2fOIWawM6YW",
        "colab_type": "code",
        "colab": {
          "base_uri": "https://localhost:8080/",
          "height": 33
        },
        "outputId": "d5e99c97-d56e-422a-9940-b4d3d53b7086"
      },
      "cell_type": "code",
      "source": [
        "#!ls"
      ],
      "execution_count": 4,
      "outputs": [
        {
          "output_type": "stream",
          "text": [
            "data  datalab  data.zip  folder.zip  __MACOSX\r\n"
          ],
          "name": "stdout"
        }
      ]
    },
    {
      "metadata": {
        "id": "iL-ia31JM6Yb",
        "colab_type": "code",
        "colab": {
          "base_uri": "https://localhost:8080/",
          "height": 33
        },
        "outputId": "925a1cac-3352-45f1-b9bc-a59d3f5ae9ba"
      },
      "cell_type": "code",
      "source": [
        "# Save the list of problem directories to the problems list\n",
        "\n",
        "from os import walk\n",
        "\n",
        "directories = []\n",
        "for (dirpath, dirnames, filenames) in walk(\"data/problems\"):\n",
        "    directories.extend(dirnames)\n",
        "    break\n",
        "\n",
        "problems = []\n",
        "for directory in directories: \n",
        "    if (directory[0] != \".\"):\n",
        "        problems.append(directory)\n",
        "\n",
        "print(problems)\n"
      ],
      "execution_count": 5,
      "outputs": [
        {
          "output_type": "stream",
          "text": [
            "['folder2', 'folder1']\n"
          ],
          "name": "stdout"
        }
      ]
    },
    {
      "metadata": {
        "id": "OiyIjBxLM6Ye",
        "colab_type": "code",
        "colab": {}
      },
      "cell_type": "code",
      "source": [
        "# For each problem, produce a solution. Copy the example_problem to the solution by default. \n",
        "import shutil\n",
        "\n",
        "# Call the overfit solver. \n",
        "# This will only work when example_solutions are present. \n",
        "# \n",
        "def solve(problem):\n",
        "    shutil.copytree(\"data/example_solutions/\"+problem, \"data/solutions/\"+problem)\n",
        "\n",
        "\n",
        "    \n",
        "    \n",
        "    \n",
        "    \n",
        "    \n",
        "# Non-overfit solution - NOT NEEDED FOR PROPOSALS\n",
        "\"\"\"\n",
        "\n",
        "def solve(problem):\n",
        "    problemFile = \"data/problems/\"+problem+\"/input.csv\"\n",
        "    problemText = open( problemFile, \"r\").read()\n",
        "    print(problemText) \n",
        "    \n",
        "    # Get the numbers, add them together, save to solution directory. \n",
        "    inputs = problemText.split(\",\")\n",
        "    x = int(inputs[0])\n",
        "    y = int(inputs[1])\n",
        "    \n",
        "    result = x + y\n",
        "    \n",
        "    print(inputs, result)\n",
        "    \n",
        "    solutionFile = \"data/solutions/\"+problem+\"/solution.csv\"\n",
        "    \n",
        "    dir = 'data/solutions/'+problem\n",
        "    if os.path.exists(dir):\n",
        "        shutil.rmtree(dir)\n",
        "    os.makedirs(dir)\n",
        "    \n",
        "    with open(solutionFile, 'w') as out:\n",
        "        out.write(str(result))\n",
        "\n",
        "\"\"\"\n",
        "pass"
      ],
      "execution_count": 0,
      "outputs": []
    },
    {
      "metadata": {
        "id": "NV15Ftw3TPVw",
        "colab_type": "text"
      },
      "cell_type": "markdown",
      "source": [
        "# New Section"
      ]
    },
    {
      "metadata": {
        "id": "x9d5139_M6Yi",
        "colab_type": "code",
        "colab": {}
      },
      "cell_type": "code",
      "source": [
        "# Delete any existing solutions. \n",
        "dir = 'data/solutions'\n",
        "if os.path.exists(dir):\n",
        "    shutil.rmtree(dir)\n",
        "os.makedirs(dir)\n",
        "\n",
        "\n",
        "# Call the new solve function for all available problems. \n",
        "for problem in problems: \n",
        "    solve(problem)"
      ],
      "execution_count": 0,
      "outputs": []
    },
    {
      "metadata": {
        "id": "eFNli5VPM6Yl",
        "colab_type": "code",
        "colab": {}
      },
      "cell_type": "code",
      "source": [
        "# Test all available solutions. \n",
        "\n",
        "# Custom test code goes here. \n",
        "def test_case(problemDir):\n",
        "    \n",
        "    \"\"\"\n",
        "    problemFile = \"data/problems/\"+problemDir+\"/input.csv\"\n",
        "    problemText = open( problemFile, \"r\").read()\n",
        "    print(problemText) \n",
        "    \n",
        "    \"\"\"\n",
        "    \n",
        "    example_solutionFile = \"data/example_solutions/\"+problemDir+\"/solution.csv\"\n",
        "    example_solutionText = open( example_solutionFile, \"r\").read()\n",
        "    #print(example_solutionText) \n",
        "    \n",
        "    solutionFile = \"data/solutions/\"+problemDir+\"/solution.csv\"\n",
        "    solutionText = open( solutionFile, \"r\").read()\n",
        "    #print(solutionText) \n",
        "    \n",
        "    if( solutionText == example_solutionText ):\n",
        "        return True\n",
        "    else:\n",
        "        return False\n",
        "    \n",
        "# End customer test code. \n",
        "    \n",
        "for problem in problems: \n",
        "    result = test_case(problem)\n",
        "    if(result):\n",
        "        pass\n",
        "    else:\n",
        "        print(\"Invalid solution for problem \",problem)\n"
      ],
      "execution_count": 0,
      "outputs": []
    }
  ]
}
